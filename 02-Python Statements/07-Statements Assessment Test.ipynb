{
 "cells": [
  {
   "cell_type": "markdown",
   "metadata": {},
   "source": [
    "___\n",
    "\n",
    "<a href='https://www.udemy.com/user/joseportilla/'><img src='../Pierian_Data_Logo.png'/></a>\n",
    "___\n",
    "<center><em>Content Copyright by Pierian Data</em></center>"
   ]
  },
  {
   "cell_type": "markdown",
   "metadata": {
    "collapsed": true
   },
   "source": [
    "# Statements Assessment Test\n",
    "Let's test your knowledge!"
   ]
  },
  {
   "cell_type": "markdown",
   "metadata": {},
   "source": [
    "_____\n",
    "**Use <code>for</code>, .split(), and <code>if</code> to create a Statement that will print out words that start with 's':**"
   ]
  },
  {
   "cell_type": "code",
   "execution_count": 1,
   "metadata": {
    "collapsed": true
   },
   "outputs": [],
   "source": [
    "st = 'Print only the words that start with s in this sentence'"
   ]
  },
  {
   "cell_type": "code",
   "execution_count": 7,
   "metadata": {
    "collapsed": true
   },
   "outputs": [
    {
     "output_type": "stream",
     "name": "stdout",
     "text": [
      "['start', 's', 'sentence']\n"
     ]
    }
   ],
   "source": [
    "#Code here\n",
    "ans = [ele for ele in st.split() if ele[0] == 's']\n",
    "print(ans)"
   ]
  },
  {
   "cell_type": "markdown",
   "metadata": {},
   "source": [
    "______\n",
    "**Use range() to print all the even numbers from 0 to 10.**"
   ]
  },
  {
   "cell_type": "code",
   "execution_count": 14,
   "metadata": {
    "collapsed": true
   },
   "outputs": [
    {
     "output_type": "stream",
     "name": "stdout",
     "text": [
      "[0, 1, 2, 3, 4, 5, 6, 7, 8, 9, 10]\n"
     ]
    }
   ],
   "source": [
    "#Code Here\n",
    "ans = [ele for ele in range(0, 11, 1)]\n",
    "print(ans)"
   ]
  },
  {
   "cell_type": "markdown",
   "metadata": {},
   "source": [
    "___\n",
    "**Use a List Comprehension to create a list of all numbers between 1 and 50 that are divisible by 3.**"
   ]
  },
  {
   "cell_type": "code",
   "execution_count": 15,
   "metadata": {
    "collapsed": true
   },
   "outputs": [
    {
     "output_type": "execute_result",
     "data": {
      "text/plain": [
       "[0.3333333333333333,\n",
       " 0.6666666666666666,\n",
       " 1.0,\n",
       " 1.3333333333333333,\n",
       " 1.6666666666666667,\n",
       " 2.0,\n",
       " 2.3333333333333335,\n",
       " 2.6666666666666665,\n",
       " 3.0,\n",
       " 3.3333333333333335,\n",
       " 3.6666666666666665,\n",
       " 4.0,\n",
       " 4.333333333333333,\n",
       " 4.666666666666667,\n",
       " 5.0,\n",
       " 5.333333333333333,\n",
       " 5.666666666666667,\n",
       " 6.0,\n",
       " 6.333333333333333,\n",
       " 6.666666666666667,\n",
       " 7.0,\n",
       " 7.333333333333333,\n",
       " 7.666666666666667,\n",
       " 8.0,\n",
       " 8.333333333333334,\n",
       " 8.666666666666666,\n",
       " 9.0,\n",
       " 9.333333333333334,\n",
       " 9.666666666666666,\n",
       " 10.0,\n",
       " 10.333333333333334,\n",
       " 10.666666666666666,\n",
       " 11.0,\n",
       " 11.333333333333334,\n",
       " 11.666666666666666,\n",
       " 12.0,\n",
       " 12.333333333333334,\n",
       " 12.666666666666666,\n",
       " 13.0,\n",
       " 13.333333333333334,\n",
       " 13.666666666666666,\n",
       " 14.0,\n",
       " 14.333333333333334,\n",
       " 14.666666666666666,\n",
       " 15.0,\n",
       " 15.333333333333334,\n",
       " 15.666666666666666,\n",
       " 16.0,\n",
       " 16.333333333333332,\n",
       " 16.666666666666668]"
      ]
     },
     "metadata": {},
     "execution_count": 15
    }
   ],
   "source": [
    "#Code in this cell\n",
    "[ele/3 for ele in range(1, 51, 1)]"
   ]
  },
  {
   "cell_type": "markdown",
   "metadata": {},
   "source": [
    "_____\n",
    "**Go through the string below and if the length of a word is even print \"even!\"**"
   ]
  },
  {
   "cell_type": "code",
   "execution_count": null,
   "metadata": {
    "collapsed": true
   },
   "outputs": [],
   "source": [
    "st = 'Print every word in this sentence that has an even number of letters'"
   ]
  },
  {
   "cell_type": "code",
   "execution_count": 23,
   "metadata": {
    "collapsed": true
   },
   "outputs": [
    {
     "output_type": "execute_result",
     "data": {
      "text/plain": [
       "['only', 'that', 'with', 'in', 'this', 'sentence']"
      ]
     },
     "metadata": {},
     "execution_count": 23
    }
   ],
   "source": [
    "#Code in this cell\n",
    "[ele for ele in st.split() if len(ele)%2 == 0]"
   ]
  },
  {
   "cell_type": "markdown",
   "metadata": {},
   "source": [
    "____\n",
    "**Write a program that prints the integers from 1 to 100. But for multiples of three print \"Fizz\" instead of the number, and for the multiples of five print \"Buzz\". For numbers which are multiples of both three and five print \"FizzBuzz\".**"
   ]
  },
  {
   "cell_type": "code",
   "execution_count": 54,
   "metadata": {
    "collapsed": true
   },
   "outputs": [
    {
     "output_type": "execute_result",
     "data": {
      "text/plain": [
       "[1,\n",
       " 2,\n",
       " 'Fizz',\n",
       " 4,\n",
       " 'Buzz',\n",
       " 'Fizz',\n",
       " 7,\n",
       " 8,\n",
       " 'Fizz',\n",
       " 'Buzz',\n",
       " 11,\n",
       " 'Fizz',\n",
       " 13,\n",
       " 14,\n",
       " 'FizzBuzz',\n",
       " 16,\n",
       " 17,\n",
       " 'Fizz',\n",
       " 19,\n",
       " 'Buzz',\n",
       " 'Fizz',\n",
       " 22,\n",
       " 23,\n",
       " 'Fizz',\n",
       " 'Buzz',\n",
       " 26,\n",
       " 'Fizz',\n",
       " 28,\n",
       " 29,\n",
       " 'FizzBuzz',\n",
       " 31,\n",
       " 32,\n",
       " 'Fizz',\n",
       " 34,\n",
       " 'Buzz',\n",
       " 'Fizz',\n",
       " 37,\n",
       " 38,\n",
       " 'Fizz',\n",
       " 'Buzz',\n",
       " 41,\n",
       " 'Fizz',\n",
       " 43,\n",
       " 44,\n",
       " 'FizzBuzz',\n",
       " 46,\n",
       " 47,\n",
       " 'Fizz',\n",
       " 49,\n",
       " 'Buzz',\n",
       " 'Fizz',\n",
       " 52,\n",
       " 53,\n",
       " 'Fizz',\n",
       " 'Buzz',\n",
       " 56,\n",
       " 'Fizz',\n",
       " 58,\n",
       " 59,\n",
       " 'FizzBuzz',\n",
       " 61,\n",
       " 62,\n",
       " 'Fizz',\n",
       " 64,\n",
       " 'Buzz',\n",
       " 'Fizz',\n",
       " 67,\n",
       " 68,\n",
       " 'Fizz',\n",
       " 'Buzz',\n",
       " 71,\n",
       " 'Fizz',\n",
       " 73,\n",
       " 74,\n",
       " 'FizzBuzz',\n",
       " 76,\n",
       " 77,\n",
       " 'Fizz',\n",
       " 79,\n",
       " 'Buzz',\n",
       " 'Fizz',\n",
       " 82,\n",
       " 83,\n",
       " 'Fizz',\n",
       " 'Buzz',\n",
       " 86,\n",
       " 'Fizz',\n",
       " 88,\n",
       " 89,\n",
       " 'FizzBuzz',\n",
       " 91,\n",
       " 92,\n",
       " 'Fizz',\n",
       " 94,\n",
       " 'Buzz',\n",
       " 'Fizz',\n",
       " 97,\n",
       " 98,\n",
       " 'Fizz',\n",
       " 'Buzz']"
      ]
     },
     "metadata": {},
     "execution_count": 54
    }
   ],
   "source": [
    "#Code in this cell\n",
    "['FizzBuzz' if ele%15==0  else 'Fizz' if ele%3==0 else 'Buzz' if ele%5==0  else ele  for ele in range(1, 101, 1)]"
   ]
  },
  {
   "cell_type": "markdown",
   "metadata": {},
   "source": [
    "____\n",
    "**Use List Comprehension to create a list of the first letters of every word in the string below:**"
   ]
  },
  {
   "cell_type": "code",
   "execution_count": null,
   "metadata": {
    "collapsed": true
   },
   "outputs": [],
   "source": [
    "st = 'Create a list of the first letters of every word in this string'"
   ]
  },
  {
   "cell_type": "code",
   "execution_count": null,
   "metadata": {
    "collapsed": true
   },
   "outputs": [],
   "source": [
    "#Code in this cell"
   ]
  },
  {
   "cell_type": "markdown",
   "metadata": {},
   "source": [
    "### Great Job!"
   ]
  }
 ],
 "metadata": {
  "kernelspec": {
   "name": "python395jvsc74a57bd02fcf206a9fac53bc63a71e209cee513c144eab60cac9cb67f9c439c6cdfb5704",
   "display_name": "Python 3.9.5 64-bit (windows store)"
  },
  "language_info": {
   "codemirror_mode": {
    "name": "ipython",
    "version": 3
   },
   "file_extension": ".py",
   "mimetype": "text/x-python",
   "name": "python",
   "nbconvert_exporter": "python",
   "pygments_lexer": "ipython3",
   "version": "3.9.5"
  },
  "metadata": {
   "interpreter": {
    "hash": "2fcf206a9fac53bc63a71e209cee513c144eab60cac9cb67f9c439c6cdfb5704"
   }
  }
 },
 "nbformat": 4,
 "nbformat_minor": 1
}